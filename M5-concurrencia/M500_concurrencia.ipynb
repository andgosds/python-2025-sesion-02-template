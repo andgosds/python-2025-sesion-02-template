{
 "cells": [
  {
   "cell_type": "markdown",
   "id": "85862ae9",
   "metadata": {},
   "source": [
    "# 🧵 Concurrencia y Paralelismo en Python \n",
    "\n",
    "Este notebook cubre los principales modelos de ejecución simultánea en Python:\n",
    "\n",
    "- Subprocesos (`subprocess`)\n",
    "- Multiprocesamiento (`multiprocessing`)\n",
    "- Multithreading (`threading`, `concurrent.futures.ThreadPoolExecutor`)\n",
    "- Concurrencia asíncrona (`asyncio`, `aiohttp`)\n",
    "\n",
    "Incluye ejemplos detallados y ejercicios prácticos con solución.\n",
    "\n",
    "---\n"
   ]
  },
  {
   "cell_type": "markdown",
   "id": "6e44feed",
   "metadata": {},
   "source": [
    "## ✅ Subprocesos externos con `subprocess` – Ejemplo\n"
   ]
  },
  {
   "cell_type": "code",
   "execution_count": 4,
   "id": "fb60a1d1",
   "metadata": {},
   "outputs": [
    {
     "name": "stdout",
     "output_type": "stream",
     "text": [
      "#65-Ubuntu SMP PREEMPT_DYNAMIC Mon May 19 17:15:03 UTC 2025\n"
     ]
    }
   ],
   "source": [
    "import subprocess\n",
    "\n",
    "# Ejecuta un comando externo del sistema operativo (solo Unix/Linux)\n",
    "out = subprocess.check_output(['uname', '-v'], text=True)\n",
    "print(out.strip())\n"
   ]
  },
  {
   "cell_type": "markdown",
   "id": "29d0ff83",
   "metadata": {},
   "source": [
    "## 📝 Ejercicio 1: Lista los archivos del directorio actual usando subprocess\n"
   ]
  },
  {
   "cell_type": "code",
   "execution_count": 5,
   "id": "ab463df7",
   "metadata": {},
   "outputs": [
    {
     "name": "stdout",
     "output_type": "stream",
     "text": [
      "total 8\n",
      "-rw-rw-r-- 1 ags ags 5492 jul  1 01:27 M500_concurrencia.ipynb\n",
      "\n"
     ]
    }
   ],
   "source": [
    "salida = subprocess.check_output(['ls', '-l'], text=True)\n",
    "print(salida)\n"
   ]
  },
  {
   "cell_type": "markdown",
   "id": "3dec0305",
   "metadata": {},
   "source": [
    "## ✅ Paralelismo con `multiprocessing.Pool` (CPU-bound) – Ejemplo\n"
   ]
  },
  {
   "cell_type": "code",
   "execution_count": 6,
   "id": "60f6d00e",
   "metadata": {},
   "outputs": [
    {
     "name": "stdout",
     "output_type": "stream",
     "text": [
      "[0, 1, 4, 9, 16, 25, 36, 49, 64, 81]\n"
     ]
    }
   ],
   "source": [
    "from multiprocessing import Pool\n",
    "\n",
    "def cuadrado(x):\n",
    "    return x * x\n",
    "\n",
    "# Ejecuta varios procesos en paralelo\n",
    "with Pool(processes=4) as pool:\n",
    "    resultados = pool.map(cuadrado, range(10))\n",
    "    print(resultados)\n"
   ]
  },
  {
   "cell_type": "markdown",
   "id": "8ce4e3e5",
   "metadata": {},
   "source": [
    "## 📝 Ejercicio 2: Calcula el cubo de los números del 1 al 5 usando Pool\n"
   ]
  },
  {
   "cell_type": "code",
   "execution_count": 7,
   "id": "ae93b827",
   "metadata": {},
   "outputs": [
    {
     "name": "stdout",
     "output_type": "stream",
     "text": [
      "[1, 8, 27, 64, 125]\n"
     ]
    }
   ],
   "source": [
    "def cubo(x):\n",
    "    return x ** 3\n",
    "\n",
    "with Pool(processes=2) as pool:\n",
    "    resultados_cubo = pool.map(cubo, range(1, 6))\n",
    "    print(resultados_cubo)\n"
   ]
  },
  {
   "cell_type": "markdown",
   "id": "6afbf760",
   "metadata": {},
   "source": [
    "## ✅ Concurrencia con `threading` (I/O-bound) – Ejemplo\n"
   ]
  },
  {
   "cell_type": "code",
   "execution_count": 22,
   "id": "595c9928",
   "metadata": {},
   "outputs": [
    {
     "name": "stdout",
     "output_type": "stream",
     "text": [
      "📂 Abriendo archivo_0.txt...\n",
      "📂 Abriendo archivo_1.txt...\n",
      "📂 Abriendo archivo_2.txt...\n",
      "✅ Terminado archivo_0.txt\n",
      "✅ Terminado archivo_1.txt\n",
      "✅ Terminado archivo_2.txt\n",
      "⏱️ Tiempo total: 1.00 segundos\n"
     ]
    }
   ],
   "source": [
    "import threading\n",
    "import time\n",
    "\n",
    "def leer_archivo_simulado(nombre_archivo):\n",
    "    print(f'📂 Abriendo {nombre_archivo}...')\n",
    "    time.sleep(1)  # Simula retardo de I/O (ej: leer un archivo grande)\n",
    "    print(f'✅ Terminado {nombre_archivo}')\n",
    "\n",
    "nombres_archivos = [f\"archivo_{i}.txt\" for i in range(3)]\n",
    "hilos = []\n",
    "\n",
    "inicio = time.perf_counter()  # Medimos el tiempo inicial\n",
    "\n",
    "for nombre in nombres_archivos:\n",
    "    hilo = threading.Thread(target=leer_archivo_simulado, args=(nombre,))\n",
    "    hilos.append(hilo)\n",
    "    hilo.start()\n",
    "\n",
    "for hilo in hilos:\n",
    "    hilo.join()\n",
    "\n",
    "fin = time.perf_counter()  # Tiempo final\n",
    "\n",
    "print(f\"⏱️ Tiempo total: {fin - inicio:.2f} segundos\")\n"
   ]
  },
  {
   "cell_type": "markdown",
   "id": "bbea24e6",
   "metadata": {},
   "source": [
    "## 📝 Ejercicio 3: Crea 5 hilos que impriman su número después de 0.5 segundos\n"
   ]
  },
  {
   "cell_type": "code",
   "execution_count": 9,
   "id": "8ba5845a",
   "metadata": {},
   "outputs": [
    {
     "name": "stdout",
     "output_type": "stream",
     "text": [
      "Hilo 0 ejecutado\n",
      "Hilo 2 ejecutado\n",
      "Hilo 4 ejecutado\n",
      "Hilo 1 ejecutado\n",
      "Hilo 3 ejecutado\n"
     ]
    }
   ],
   "source": [
    "def escribir_num(n):\n",
    "    time.sleep(0.5)\n",
    "    print(f'Hilo {n} ejecutado')\n",
    "\n",
    "hilos = [threading.Thread(target=escribir_num, args=(i,)) for i in range(5)]\n",
    "for h in hilos:\n",
    "    h.start()\n",
    "for h in hilos:\n",
    "    h.join()\n"
   ]
  },
  {
   "cell_type": "markdown",
   "id": "1d2d74ef",
   "metadata": {},
   "source": [
    "## ✅ Concurrencia asíncrona con `asyncio` + `aiohttp` – Ejemplo\n"
   ]
  },
  {
   "cell_type": "code",
   "execution_count": 3,
   "id": "b5225166",
   "metadata": {},
   "outputs": [
    {
     "name": "stdout",
     "output_type": "stream",
     "text": [
      "📄 Descargado 1256 caracteres de https://example.com\n"
     ]
    }
   ],
   "source": [
    "import asyncio\n",
    "import aiohttp\n",
    "\n",
    "async def fetch(url):\n",
    "    async with aiohttp.ClientSession() as session:\n",
    "        async with session.get(url) as response:\n",
    "            contenido = await response.text()\n",
    "            return len(contenido)\n",
    "\n",
    "async def main():\n",
    "    url = 'https://example.com'\n",
    "    tamanio = await fetch(url)\n",
    "    print(f'📄 Descargado {tamanio} caracteres de {url}')\n",
    "\n",
    "# Importante: Solo usa \"await main()\" dentro de otros entornos async.\n",
    "# Si ejecutas en notebook normal:\n",
    "await main()\n"
   ]
  },
  {
   "cell_type": "markdown",
   "id": "f88d1f73",
   "metadata": {},
   "source": [
    "## 📝 Ejercicio 4: Descargar 3 URLs diferentes en paralelo y medir el tiempo total\n"
   ]
  },
  {
   "cell_type": "code",
   "execution_count": 11,
   "id": "b1fc75ee",
   "metadata": {},
   "outputs": [
    {
     "name": "stdout",
     "output_type": "stream",
     "text": [
      "https://www.python.org descargada en 0.10 segundos\n",
      "https://example.com descargada en 0.59 segundos\n",
      "https://httpbin.org/get descargada en 0.79 segundos\n"
     ]
    }
   ],
   "source": [
    "import time\n",
    "\n",
    "async def fetch_con_tiempo(url):\n",
    "    inicio = time.perf_counter()\n",
    "    await fetch(url)\n",
    "    fin = time.perf_counter()\n",
    "    print(f'{url} descargada en {fin - inicio:.2f} segundos')\n",
    "\n",
    "async def main_ejercicio():\n",
    "    urls = ['https://example.com', 'https://httpbin.org/get', 'https://www.python.org']\n",
    "    await asyncio.gather(*(fetch_con_tiempo(u) for u in urls))\n",
    "\n",
    "# asyncio.run(main_ejercicio())\n",
    "await main_ejercicio()\n"
   ]
  },
  {
   "cell_type": "markdown",
   "id": "1914da40",
   "metadata": {},
   "source": [
    "## ✅ Pool de hilos con `concurrent.futures.ThreadPoolExecutor` – Ejemplo\n"
   ]
  },
  {
   "cell_type": "code",
   "execution_count": 12,
   "id": "73ef9287",
   "metadata": {},
   "outputs": [
    {
     "name": "stdout",
     "output_type": "stream",
     "text": [
      "[0, 1, 4, 9, 16, 25, 36, 49, 64, 81]\n"
     ]
    }
   ],
   "source": [
    "from concurrent.futures import ThreadPoolExecutor\n",
    "import math\n",
    "\n",
    "def cuadrado(x):\n",
    "    return x ** 2\n",
    "\n",
    "with ThreadPoolExecutor(max_workers=4) as executor:\n",
    "    resultados = list(executor.map(cuadrado, range(10)))\n",
    "    print(resultados)\n"
   ]
  },
  {
   "cell_type": "markdown",
   "id": "cb499798",
   "metadata": {},
   "source": [
    "## 📝 Ejercicio 5: Calcula las raíces cuadradas de los números del 1 al 5\n"
   ]
  },
  {
   "cell_type": "code",
   "execution_count": 13,
   "id": "bfe098b0",
   "metadata": {},
   "outputs": [
    {
     "name": "stdout",
     "output_type": "stream",
     "text": [
      "[1.0, 1.4142135623730951, 1.7320508075688772, 2.0, 2.23606797749979]\n"
     ]
    }
   ],
   "source": [
    "def raiz_cuadrada(x):\n",
    "    return math.sqrt(x)\n",
    "\n",
    "with ThreadPoolExecutor() as executor:\n",
    "    resultados_raiz = list(executor.map(raiz_cuadrada, range(1, 6)))\n",
    "    print(resultados_raiz)\n"
   ]
  },
  {
   "cell_type": "markdown",
   "id": "78cc487d",
   "metadata": {},
   "source": [
    "## ✅ Pool de procesos con `concurrent.futures.ProcessPoolExecutor` – Ejemplo\n"
   ]
  },
  {
   "cell_type": "code",
   "execution_count": 14,
   "id": "d3639cb9",
   "metadata": {},
   "outputs": [
    {
     "name": "stdout",
     "output_type": "stream",
     "text": [
      "[1, 2, 6, 24, 120]\n"
     ]
    }
   ],
   "source": [
    "from concurrent.futures import ProcessPoolExecutor\n",
    "\n",
    "def factorial(n):\n",
    "    resultado = 1\n",
    "    for i in range(1, n + 1):\n",
    "        resultado *= i\n",
    "    return resultado\n",
    "\n",
    "with ProcessPoolExecutor() as executor:\n",
    "    resultados = list(executor.map(factorial, range(1, 6)))\n",
    "    print(resultados)\n"
   ]
  },
  {
   "cell_type": "markdown",
   "id": "5a21eaa4",
   "metadata": {},
   "source": [
    "## 📝 Ejercicio 6: Calcula los cuadrados de 1 a 5 usando ProcessPoolExecutor\n"
   ]
  },
  {
   "cell_type": "code",
   "execution_count": 15,
   "id": "6ab92a51",
   "metadata": {},
   "outputs": [
    {
     "name": "stdout",
     "output_type": "stream",
     "text": [
      "[1, 4, 9, 16, 25]\n"
     ]
    }
   ],
   "source": [
    "def cuadrado(x):\n",
    "    return x * x\n",
    "\n",
    "with ProcessPoolExecutor() as executor:\n",
    "    resultados_cuadrados = list(executor.map(cuadrado, range(1, 6)))\n",
    "    print(resultados_cuadrados)\n"
   ]
  },
  {
   "cell_type": "markdown",
   "id": "8cd23dc0",
   "metadata": {},
   "source": [
    "## ✅ Conclusiones finales\n",
    "\n",
    "| Técnica | Casos de uso recomendado |\n",
    "|---|---|\n",
    "| `subprocess` | Ejecutar comandos externos (ej: sistema operativo) |\n",
    "| `threading` | Tareas I/O-bound bloqueantes (red, disco) |\n",
    "| `multiprocessing` / `ProcessPoolExecutor` | Cálculos CPU-bound que escalan con múltiples núcleos |\n",
    "| `ThreadPoolExecutor` | Simplificar uso de hilos en código I/O |\n",
    "| `asyncio` | Miles de tareas I/O concurrentes y ligeras |\n",
    "\n",
    "➡️ La elección depende del tipo de tarea: **I/O-bound vs CPU-bound**, y si buscas **concurrencia** o **paralelismo real**.\n",
    "\n",
    "---\n"
   ]
  },
  {
   "cell_type": "markdown",
   "id": "ea992815",
   "metadata": {},
   "source": [
    "## 📝 Ejercicio final: Comparativa de rendimiento entre Threads, Procesos y Asyncio\n",
    "\n",
    "**Objetivo:**  \n",
    "Calcular los cuadrados de los números del 1 al 10 usando tres enfoques diferentes:\n",
    "\n",
    "1. **ThreadPoolExecutor (con hilos)**\n",
    "2. **ProcessPoolExecutor (con procesos)**\n",
    "3. **asyncio (con una función simulada que hace un `asyncio.sleep`)**\n",
    "\n",
    "**Además:**  \n",
    "- Mide el tiempo total de ejecución en cada caso usando `time.perf_counter()`.\n",
    "- Compara los resultados y discute cuál es más rápido y por qué.\n",
    "\n",
    "---\n"
   ]
  },
  {
   "cell_type": "code",
   "execution_count": 21,
   "id": "4633f1c2",
   "metadata": {},
   "outputs": [
    {
     "name": "stdout",
     "output_type": "stream",
     "text": [
      "ThreadPoolExecutor → [1, 4, 9, 16, 25, 36, 49, 64, 81, 100] en 1.00 segundos\n",
      "ProcessPoolExecutor → [1, 4, 9, 16, 25, 36, 49, 64, 81, 100] en 1.09 segundos\n",
      "Asyncio → [1, 4, 9, 16, 25, 36, 49, 64, 81, 100] en 1.00 segundos\n"
     ]
    }
   ],
   "source": [
    "import time\n",
    "from concurrent.futures import ThreadPoolExecutor, ProcessPoolExecutor\n",
    "import asyncio\n",
    "\n",
    "def cuadrado(x):\n",
    "    time.sleep(1)  # Simula una tarea que tarda un poco\n",
    "    return x * x\n",
    "\n",
    "# 1. Usando ThreadPoolExecutor\n",
    "start = time.perf_counter()\n",
    "with ThreadPoolExecutor() as executor:\n",
    "    resultados_thread = list(executor.map(cuadrado, range(1, 11)))\n",
    "end = time.perf_counter()\n",
    "print(f\"ThreadPoolExecutor → {resultados_thread} en {end - start:.2f} segundos\")\n",
    "\n",
    "# 2. Usando ProcessPoolExecutor\n",
    "start = time.perf_counter()\n",
    "with ProcessPoolExecutor() as executor:\n",
    "    resultados_process = list(executor.map(cuadrado, range(1, 11)))\n",
    "end = time.perf_counter()\n",
    "print(f\"ProcessPoolExecutor → {resultados_process} en {end - start:.2f} segundos\")\n",
    "\n",
    "# 3. Usando asyncio\n",
    "async def cuadrado_async(x):\n",
    "    await asyncio.sleep(1)  # Simula retardo asíncrono\n",
    "    return x * x\n",
    "\n",
    "async def main_async():\n",
    "    tareas = [cuadrado_async(x) for x in range(1, 11)]\n",
    "    return await asyncio.gather(*tareas)\n",
    "\n",
    "start = time.perf_counter()\n",
    "resultados_async = await main_async()\n",
    "end = time.perf_counter()\n",
    "print(f\"Asyncio → {resultados_async} en {end - start:.2f} segundos\")\n"
   ]
  },
  {
   "cell_type": "markdown",
   "id": "50ea136e",
   "metadata": {},
   "source": []
  }
 ],
 "metadata": {
  "kernelspec": {
   "display_name": ".venv",
   "language": "python",
   "name": "python3"
  },
  "language_info": {
   "codemirror_mode": {
    "name": "ipython",
    "version": 3
   },
   "file_extension": ".py",
   "mimetype": "text/x-python",
   "name": "python",
   "nbconvert_exporter": "python",
   "pygments_lexer": "ipython3",
   "version": "3.13.5"
  }
 },
 "nbformat": 4,
 "nbformat_minor": 5
}
