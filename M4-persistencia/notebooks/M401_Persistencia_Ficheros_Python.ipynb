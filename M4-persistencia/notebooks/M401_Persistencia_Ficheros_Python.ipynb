{
 "cells": [
  {
   "cell_type": "markdown",
   "id": "b4344bc4",
   "metadata": {},
   "source": [
    "## Manejo Básico de Archivos de Texto"
   ]
  },
  {
   "cell_type": "code",
   "execution_count": 1,
   "id": "edb58038",
   "metadata": {},
   "outputs": [
    {
     "name": "stdout",
     "output_type": "stream",
     "text": [
      "Hola mundo\n",
      "Línea 2\n"
     ]
    }
   ],
   "source": [
    "# Escritura y lectura básica de texto plano\n",
    "with open('archivo.txt', 'w', encoding='utf-8') as f:\n",
    "    f.write('Hola mundo\\nLínea 2')\n",
    "\n",
    "with open('archivo.txt', 'r', encoding='utf-8') as f:\n",
    "    print(f.read())"
   ]
  },
  {
   "cell_type": "markdown",
   "id": "a52c4ad6",
   "metadata": {},
   "source": [
    "## Lectura y Escritura de CSV"
   ]
  },
  {
   "cell_type": "code",
   "execution_count": 2,
   "id": "377de9ad",
   "metadata": {},
   "outputs": [
    {
     "name": "stdout",
     "output_type": "stream",
     "text": [
      "['Nombre', 'Edad']\n",
      "['Ana', '30']\n",
      "['Juan', '25']\n"
     ]
    }
   ],
   "source": [
    "import csv\n",
    "\n",
    "# Escritura CSV\n",
    "datos = [['Nombre', 'Edad'], ['Ana', 30], ['Juan', 25]]\n",
    "with open('datos.csv', 'w', newline='') as f:\n",
    "    writer = csv.writer(f)\n",
    "    writer.writerows(datos)\n",
    "\n",
    "# Lectura CSV\n",
    "with open('datos.csv') as f:\n",
    "    reader = csv.reader(f)\n",
    "    for fila in reader:\n",
    "        print(fila)"
   ]
  },
  {
   "cell_type": "markdown",
   "id": "5e7bdf69",
   "metadata": {},
   "source": [
    "## Lectura y Escritura de JSON"
   ]
  },
  {
   "cell_type": "code",
   "execution_count": 3,
   "id": "32740620",
   "metadata": {},
   "outputs": [
    {
     "name": "stdout",
     "output_type": "stream",
     "text": [
      "{'nombre': 'Andrés', 'edad': 25, 'activo': True}\n"
     ]
    }
   ],
   "source": [
    "import json\n",
    "\n",
    "persona = {'nombre': 'Andrés', 'edad': 25, 'activo': True}\n",
    "\n",
    "# Escritura JSON\n",
    "with open('persona.json', 'w') as f:\n",
    "    json.dump(persona, f, indent=2)\n",
    "\n",
    "# Lectura JSON\n",
    "with open('persona.json') as f:\n",
    "    datos = json.load(f)\n",
    "    print(datos)"
   ]
  },
  {
   "cell_type": "markdown",
   "id": "c60a73ff",
   "metadata": {},
   "source": [
    "## Lectura y Escritura de YAML"
   ]
  },
  {
   "cell_type": "code",
   "execution_count": 4,
   "id": "ff6bf33d",
   "metadata": {},
   "outputs": [
    {
     "name": "stdout",
     "output_type": "stream",
     "text": [
      "{'debug': True, 'usuarios': ['Ana', 'Juan'], 'version': 1.0}\n"
     ]
    }
   ],
   "source": [
    "import yaml\n",
    "\n",
    "config = {'version': 1.0, 'debug': True, 'usuarios': ['Ana', 'Juan']}\n",
    "\n",
    "with open('config.yaml', 'w') as f:\n",
    "    yaml.dump(config, f)\n",
    "\n",
    "with open('config.yaml') as f:\n",
    "    datos = yaml.safe_load(f)\n",
    "    print(datos)"
   ]
  },
  {
   "cell_type": "markdown",
   "id": "266a412e",
   "metadata": {},
   "source": [
    "## Serialización con Pickle"
   ]
  },
  {
   "cell_type": "code",
   "execution_count": 5,
   "id": "3c809016",
   "metadata": {},
   "outputs": [
    {
     "name": "stdout",
     "output_type": "stream",
     "text": [
      "{'numeros': [1, 2, 3], 'texto': 'Hola'}\n"
     ]
    }
   ],
   "source": [
    "import pickle\n",
    "\n",
    "datos = {'numeros': [1, 2, 3], 'texto': 'Hola'}\n",
    "\n",
    "with open('datos.pkl', 'wb') as f:\n",
    "    pickle.dump(datos, f)\n",
    "\n",
    "with open('datos.pkl', 'rb') as f:\n",
    "    recuperado = pickle.load(f)\n",
    "    print(recuperado)"
   ]
  },
  {
   "cell_type": "markdown",
   "id": "b7017785",
   "metadata": {},
   "source": [
    "## Uso de Shelve"
   ]
  },
  {
   "cell_type": "code",
   "execution_count": 6,
   "id": "3bd2cdde",
   "metadata": {},
   "outputs": [
    {
     "name": "stdout",
     "output_type": "stream",
     "text": [
      "[10, 20, 30]\n"
     ]
    }
   ],
   "source": [
    "import shelve\n",
    "\n",
    "with shelve.open('mis_datos') as db:\n",
    "    db['lista'] = [10, 20, 30]\n",
    "\n",
    "with shelve.open('mis_datos') as db:\n",
    "    print(db['lista'])"
   ]
  },
  {
   "cell_type": "markdown",
   "id": "645705f1",
   "metadata": {},
   "source": [
    "## Lectura y Escritura de Excel con Pandas"
   ]
  },
  {
   "cell_type": "code",
   "execution_count": 7,
   "id": "2c74e4c5",
   "metadata": {},
   "outputs": [
    {
     "name": "stdout",
     "output_type": "stream",
     "text": [
      "  Nombre  Edad\n",
      "0    Ana    30\n",
      "1   Juan    25\n"
     ]
    }
   ],
   "source": [
    "import pandas as pd\n",
    "\n",
    "df = pd.DataFrame({'Nombre': ['Ana', 'Juan'], 'Edad': [30, 25]})\n",
    "\n",
    "df.to_excel('usuarios.xlsx', index=False)\n",
    "df_leido = pd.read_excel('usuarios.xlsx')\n",
    "print(df_leido)"
   ]
  },
  {
   "cell_type": "markdown",
   "id": "b978fad4",
   "metadata": {},
   "source": [
    "## Compresión con Zipfile"
   ]
  },
  {
   "cell_type": "code",
   "execution_count": 8,
   "id": "5b8b4768",
   "metadata": {},
   "outputs": [
    {
     "name": "stdout",
     "output_type": "stream",
     "text": [
      "['archivo.txt']\n"
     ]
    }
   ],
   "source": [
    "import zipfile\n",
    "\n",
    "# Crear un ZIP\n",
    "with zipfile.ZipFile('mi_archivo.zip', 'w') as zipf:\n",
    "    zipf.write('archivo.txt')\n",
    "\n",
    "# Listar contenido del ZIP\n",
    "with zipfile.ZipFile('mi_archivo.zip') as zipf:\n",
    "    print(zipf.namelist())"
   ]
  },
  {
   "cell_type": "markdown",
   "id": "883829a4",
   "metadata": {},
   "source": [
    "## Lectura rápida con Polars"
   ]
  },
  {
   "cell_type": "code",
   "execution_count": 9,
   "id": "bc91afcb",
   "metadata": {},
   "outputs": [
    {
     "name": "stdout",
     "output_type": "stream",
     "text": [
      "shape: (2, 2)\n",
      "┌────────┬──────┐\n",
      "│ Nombre ┆ Edad │\n",
      "│ ---    ┆ ---  │\n",
      "│ str    ┆ i64  │\n",
      "╞════════╪══════╡\n",
      "│ Ana    ┆ 30   │\n",
      "│ Juan   ┆ 25   │\n",
      "└────────┴──────┘\n"
     ]
    }
   ],
   "source": [
    "import polars as pl\n",
    "\n",
    "df = pl.DataFrame({'Nombre': ['Ana', 'Juan'], 'Edad': [30, 25]})\n",
    "df.write_csv('usuarios_polars.csv')\n",
    "\n",
    "df_leido = pl.read_csv('usuarios_polars.csv')\n",
    "print(df_leido)"
   ]
  }
 ],
 "metadata": {
  "kernelspec": {
   "display_name": ".venv",
   "language": "python",
   "name": "python3"
  },
  "language_info": {
   "codemirror_mode": {
    "name": "ipython",
    "version": 3
   },
   "file_extension": ".py",
   "mimetype": "text/x-python",
   "name": "python",
   "nbconvert_exporter": "python",
   "pygments_lexer": "ipython3",
   "version": "3.13.5"
  }
 },
 "nbformat": 4,
 "nbformat_minor": 5
}
